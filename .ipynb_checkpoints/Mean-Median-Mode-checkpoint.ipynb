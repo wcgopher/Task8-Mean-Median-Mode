{
 "cells": [
  {
   "cell_type": "markdown",
   "metadata": {},
   "source": [
    "Task 8 - Mean, Median, and Mode (Computed From Scratch)\n",
    "\n",
    "1) Write a function that, given an arbitrary list of numbers (or a range, or a tuple of numbers) computes the mean.\n",
    "\n",
    "2) Write a function that, given an arbitrary list of numbers (or a range of numbers, or a tuple of numbers) computes the median.\n",
    "\n",
    "3) Write a function that, given an arbitrary list of numbers (or a range, or a tuple of numbers) computes the mode.\n",
    "\n",
    "see docstring below for examples\n",
    "\"\"\"\n",
    "list1 = [2,3,4]\n",
    ">>> mean(list1) = 3\n",
    ">>> median(list1) = 3\n",
    ">>> mode(list1) = None\n",
    "\n",
    "list2 = [10,1,4,3,2,10]\n",
    ">>> mean(list2) = 5\n",
    ">>> median(list2) = 3.5\n",
    ">>> mode(list2) = 10\n",
    "\n",
    "range1 = range(2,5)\n",
    ">>> mean(range1) = 3\n",
    ">>> median(range1) = 3\n",
    ">>> mode(range1) = None\n",
    "\n",
    "range2 = range(1,101)\n",
    ">>> mean(range2) = 5050\n",
    ">>> median(range2) = 50.5\n",
    ">>> mode(range2) = None\n",
    "\n",
    "\n",
    "tuple1 = (10,4,6,8,2)\n",
    ">>> mean(tuple1) = 6\n",
    ">>> median(range1) = 6\n",
    ">>> mode(range1) = None\n",
    "\n",
    "tuple2 = (10,4,6,8,2,10000,4)\n",
    ">>> mean(tuple1) = 1433.4 \n",
    ">>> median(range1) = 6\n",
    ">>> mode(range1) = 4\n",
    "\"\"\""
   ]
  },
  {
   "cell_type": "code",
   "execution_count": null,
   "metadata": {
    "collapsed": true
   },
   "outputs": [],
   "source": [
    "def mean(arbitrary_iterable):\n",
    "    lst1 = list(arbitrary_iterable)\n",
    "    return sum(lst1)/len(lst1)\n",
    "\n",
    "def median(arbitrary_iterable):\n",
    "    lst1 = list(arbitrary_iterable)\n",
    "    lst1.sort()\n",
    "    if len(lst1) % 2 == 0:\n",
    "        return (lst1[len(lst1)//2] + lst1[(len(lst1)//2)-1]) / 2\n",
    "    else:\n",
    "        return (lst1[len(lst1)//2])\n",
    "    \n",
    "def mode(arbitrary_iterable):\n",
    "    dict1 = {}\n",
    "    for _ in arbitrary_iterable:\n",
    "        dict1[_] = 0\n",
    "    for _ in arbitrary_iterable:\n",
    "        dict1[_] += 1\n",
    "    vals = list(dict1.values())\n",
    "    keys = list(dict1.keys())\n",
    "    sorted_vals = sorted(vals, reverse = True)\n",
    "    if sorted_vals[0] == sorted_vals[1]:\n",
    "        return None\n",
    "    else:\n",
    "        return keys[vals.index(max(vals))]\n",
    "    print(dict1)\n",
    "    print(vals)\n",
    "    print(keys)\n",
    "\n",
    "def mean_median_mode(arbitrary_iterable):\n",
    "    print(\"Mean:   {}\".format(mean(arbitrary_iterable)))\n",
    "    print(\"Median: {}\".format(median(arbitrary_iterable)))\n",
    "    print(\"Mode:   {}\".format(mode(arbitrary_iterable)))"
   ]
  },
  {
   "cell_type": "code",
   "execution_count": null,
   "metadata": {},
   "outputs": [],
   "source": [
    "lst1 = [10,1,4,3,2,10]\n",
    "lst1[len(lst1)//2]\n"
   ]
  },
  {
   "cell_type": "code",
   "execution_count": null,
   "metadata": {},
   "outputs": [],
   "source": [
    "mean(range(1,101))"
   ]
  },
  {
   "cell_type": "code",
   "execution_count": null,
   "metadata": {},
   "outputs": [],
   "source": [
    "lst1 = list(range(1,101))\n",
    "sum(lst1)"
   ]
  },
  {
   "cell_type": "code",
   "execution_count": null,
   "metadata": {},
   "outputs": [],
   "source": [
    "median((10,4,6,8,2))"
   ]
  },
  {
   "cell_type": "code",
   "execution_count": null,
   "metadata": {},
   "outputs": [],
   "source": [
    "mode((10,4,6,8,2,2,4))"
   ]
  },
  {
   "cell_type": "code",
   "execution_count": null,
   "metadata": {},
   "outputs": [],
   "source": [
    "mean_median_mode([10,1,4,3,2,10,9,19,19,19])"
   ]
  },
  {
   "cell_type": "code",
   "execution_count": null,
   "metadata": {
    "collapsed": true
   },
   "outputs": [],
   "source": []
  }
 ],
 "metadata": {
  "kernelspec": {
   "display_name": "Python 3",
   "language": "python",
   "name": "python3"
  },
  "language_info": {
   "codemirror_mode": {
    "name": "ipython",
    "version": 3
   },
   "file_extension": ".py",
   "mimetype": "text/x-python",
   "name": "python",
   "nbconvert_exporter": "python",
   "pygments_lexer": "ipython3",
   "version": "3.6.3"
  }
 },
 "nbformat": 4,
 "nbformat_minor": 2
}
