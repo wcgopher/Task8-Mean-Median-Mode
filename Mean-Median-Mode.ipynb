{
 "cells": [
  {
   "cell_type": "markdown",
   "metadata": {},
   "source": [
    "Task 8 - Mean, Median, and Mode (Computed From Scratch)\n",
    "\n",
    "1) Write a function that, given an arbitrary list of numbers (or a range, or a tuple of numbers) computes the mean.\n",
    "\n",
    "2) Write a function that, given an arbitrary list of numbers (or a range of numbers, or a tuple of numbers) computes the median.\n",
    "\n",
    "3) Write a function that, given an arbitrary list of numbers (or a range, or a tuple of numbers) computes the mode.\n",
    "\n",
    "see docstring below for examples\n",
    "\"\"\"\n",
    "list1 = [2,3,4]\n",
    ">>> mean(list1) = 3\n",
    ">>> median(list1) = 3\n",
    ">>> mode(list1) = None\n",
    "\n",
    "list2 = [10,1,4,3,2,10]\n",
    ">>> mean(list2) = 5\n",
    ">>> median(list2) = 3.5\n",
    ">>> mode(list2) = 10\n",
    "\n",
    "range1 = range(2,5)\n",
    ">>> mean(range1) = 3\n",
    ">>> median(range1) = 3\n",
    ">>> mode(range1) = None\n",
    "\n",
    "range2 = range(1,101)\n",
    ">>> mean(range2) = 5050\n",
    ">>> median(range2) = 50.5\n",
    ">>> mode(range2) = None\n",
    "\n",
    "\n",
    "tuple1 = (10,4,6,8,2)\n",
    ">>> mean(tuple1) = 6\n",
    ">>> median(range1) = 6\n",
    ">>> mode(range1) = None\n",
    "\n",
    "tuple2 = (10,4,6,8,2,10000,4)\n",
    ">>> mean(tuple1) = 1433.4 \n",
    ">>> median(range1) = 6\n",
    ">>> mode(range1) = 4\n",
    "\"\"\""
   ]
  },
  {
   "cell_type": "code",
   "execution_count": 9,
   "metadata": {
    "collapsed": true
   },
   "outputs": [],
   "source": [
    "def mean(arbitrary_iterable):\n",
    "    lst1 = list(arbitrary_iterable)\n",
    "    return sum(lst1)/len(lst1)\n",
    "\n",
    "def median(arbitrary_iterable):\n",
    "    lst1 = list(arbitrary_iterable)\n",
    "    lst1.sort()\n",
    "    if len(lst1) % 2 == 0:\n",
    "        return (lst1[len(lst1)/2] + lst1[(len(lst1)/2)-1]) / 2\n",
    "        "
   ]
  },
  {
   "cell_type": "code",
   "execution_count": 5,
   "metadata": {},
   "outputs": [
    {
     "data": {
      "text/plain": [
       "50.5"
      ]
     },
     "execution_count": 5,
     "metadata": {},
     "output_type": "execute_result"
    }
   ],
   "source": [
    "mean(range(1,101))"
   ]
  },
  {
   "cell_type": "code",
   "execution_count": 8,
   "metadata": {},
   "outputs": [
    {
     "data": {
      "text/plain": [
       "5050"
      ]
     },
     "execution_count": 8,
     "metadata": {},
     "output_type": "execute_result"
    }
   ],
   "source": [
    "lst1 = list(range(1,101))\n",
    "sum(lst1)"
   ]
  },
  {
   "cell_type": "code",
   "execution_count": 12,
   "metadata": {},
   "outputs": [
    {
     "ename": "TypeError",
     "evalue": "list indices must be integers or slices, not float",
     "output_type": "error",
     "traceback": [
      "\u001b[0;31m---------------------------------------------------------------------------\u001b[0m",
      "\u001b[0;31mTypeError\u001b[0m                                 Traceback (most recent call last)",
      "\u001b[0;32m<ipython-input-12-f927224b4ba7>\u001b[0m in \u001b[0;36m<module>\u001b[0;34m()\u001b[0m\n\u001b[0;32m----> 1\u001b[0;31m \u001b[0mmedian\u001b[0m\u001b[0;34m(\u001b[0m\u001b[0;34m[\u001b[0m\u001b[0;36m10\u001b[0m\u001b[0;34m,\u001b[0m\u001b[0;36m1\u001b[0m\u001b[0;34m,\u001b[0m\u001b[0;36m4\u001b[0m\u001b[0;34m,\u001b[0m\u001b[0;36m3\u001b[0m\u001b[0;34m,\u001b[0m\u001b[0;36m2\u001b[0m\u001b[0;34m,\u001b[0m\u001b[0;36m10\u001b[0m\u001b[0;34m]\u001b[0m\u001b[0;34m)\u001b[0m\u001b[0;34m\u001b[0m\u001b[0m\n\u001b[0m",
      "\u001b[0;32m<ipython-input-9-f63e4638c3bc>\u001b[0m in \u001b[0;36mmedian\u001b[0;34m(arbitrary_iterable)\u001b[0m\n\u001b[1;32m      7\u001b[0m     \u001b[0mlst1\u001b[0m\u001b[0;34m.\u001b[0m\u001b[0msort\u001b[0m\u001b[0;34m(\u001b[0m\u001b[0;34m)\u001b[0m\u001b[0;34m\u001b[0m\u001b[0m\n\u001b[1;32m      8\u001b[0m     \u001b[0;32mif\u001b[0m \u001b[0mlen\u001b[0m\u001b[0;34m(\u001b[0m\u001b[0mlst1\u001b[0m\u001b[0;34m)\u001b[0m \u001b[0;34m%\u001b[0m \u001b[0;36m2\u001b[0m \u001b[0;34m==\u001b[0m \u001b[0;36m0\u001b[0m\u001b[0;34m:\u001b[0m\u001b[0;34m\u001b[0m\u001b[0m\n\u001b[0;32m----> 9\u001b[0;31m         \u001b[0;32mreturn\u001b[0m \u001b[0;34m(\u001b[0m\u001b[0mlst1\u001b[0m\u001b[0;34m[\u001b[0m\u001b[0mlen\u001b[0m\u001b[0;34m(\u001b[0m\u001b[0mlst1\u001b[0m\u001b[0;34m)\u001b[0m\u001b[0;34m/\u001b[0m\u001b[0;36m2\u001b[0m\u001b[0;34m]\u001b[0m \u001b[0;34m+\u001b[0m \u001b[0mlst1\u001b[0m\u001b[0;34m[\u001b[0m\u001b[0;34m(\u001b[0m\u001b[0mlen\u001b[0m\u001b[0;34m(\u001b[0m\u001b[0mlst1\u001b[0m\u001b[0;34m)\u001b[0m\u001b[0;34m/\u001b[0m\u001b[0;36m2\u001b[0m\u001b[0;34m)\u001b[0m\u001b[0;34m-\u001b[0m\u001b[0;36m1\u001b[0m\u001b[0;34m]\u001b[0m\u001b[0;34m)\u001b[0m \u001b[0;34m/\u001b[0m \u001b[0;36m2\u001b[0m\u001b[0;34m\u001b[0m\u001b[0m\n\u001b[0m\u001b[1;32m     10\u001b[0m \u001b[0;34m\u001b[0m\u001b[0m\n",
      "\u001b[0;31mTypeError\u001b[0m: list indices must be integers or slices, not float"
     ]
    }
   ],
   "source": [
    "median([10,1,4,3,2,10])"
   ]
  },
  {
   "cell_type": "code",
   "execution_count": null,
   "metadata": {
    "collapsed": true
   },
   "outputs": [],
   "source": []
  }
 ],
 "metadata": {
  "kernelspec": {
   "display_name": "Python 3",
   "language": "python",
   "name": "python3"
  },
  "language_info": {
   "codemirror_mode": {
    "name": "ipython",
    "version": 3
   },
   "file_extension": ".py",
   "mimetype": "text/x-python",
   "name": "python",
   "nbconvert_exporter": "python",
   "pygments_lexer": "ipython3",
   "version": "3.6.3"
  }
 },
 "nbformat": 4,
 "nbformat_minor": 2
}
